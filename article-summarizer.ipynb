{
 "cells": [
  {
   "cell_type": "markdown",
   "metadata": {},
   "source": [
    "# Web Mining and Applied NLP (44-620)\n",
    "\n",
    "## Final Project: Article Summarizer\n",
    "\n",
    "### Student Name: Ryan Smith - GitHub: https://github.com/RP1507/article-summarizer-Mod7 \n",
    "\n",
    "Perform the tasks described in the Markdown cells below.  When you have completed the assignment make sure your code cells have all been run (and have output beneath them) and ensure you have committed and pushed ALL of your changes to your assignment repository.\n",
    "\n",
    "You should bring in code from previous assignments to help you answer the questions below.\n",
    "\n",
    "Every question that requires you to write code will have a code cell underneath it; you may either write your entire solution in that cell or write it in a python file (`.py`), then import and run the appropriate code to answer the question."
   ]
  },
  {
   "cell_type": "markdown",
   "metadata": {},
   "source": [
    "## Question 1:\n",
    "\n",
    "1. Find on the internet an article or blog post about a topic that interests you and you are able to get the text for using the technologies we have applied in the course.  Get the html for the article and store it in a file (which you must submit with your project)"
   ]
  },
  {
   "cell_type": "code",
   "execution_count": 261,
   "metadata": {},
   "outputs": [],
   "source": [
    "import requests\n",
    "\n",
    "# Scrape from site, dump into pkl file\n",
    "\n",
    "from bs4 import BeautifulSoup\n",
    "\n",
    "parser = 'html5lib'\n",
    "\n",
    "soup = BeautifulSoup(response.text, parser)\n",
    "\n",
    "article_page = requests.get('https://www.si.com/college/ncstate/basketball/jimmy-v-espy-speech')\n",
    "article_html = article_page.text\n",
    "\n",
    "import pickle\n",
    "\n",
    "with open('jimmyv.pkl', 'wb') as f:\n",
    "    pickle.dump(article_page.text, f)"
   ]
  },
  {
   "cell_type": "markdown",
   "metadata": {},
   "source": [
    "## Question 2:\n",
    "\n",
    "2. Read in your article's html source from the file you created in question 1 and do sentiment analysis on the article/post's text (use `.get_text()`).  Print the polarity score with an appropriate label.  Additionally print the number of sentences in the original article (with an appropriate label)"
   ]
  },
  {
   "cell_type": "code",
   "execution_count": 262,
   "metadata": {},
   "outputs": [
    {
     "name": "stdout",
     "output_type": "stream",
     "text": [
      "Jimmy V's 'Don't Ever Give Up' SpeechIn honor of coach Jim Valvano, who died 27 years ago Tuesday, here is the transcript  his famous \"Don't give up, don't ever give up\" speech at the ESPY Awards on March 4, 1993Author:Brett FriedlanderPublish date:Apr 28, 2020 10:14 PM EDTTuesday is the 27th anniversary of Jim Valvano's death. In honor of his legacy at NC State and in the fight against cancer through the foundation he started, here is the transcript of his famous \"Don't Ever Give Up\" speech at the ESPY Awards on March 4, 1993:Thank you. Thank you very much. Thank you. That’s the lowest I’ve ever seen Dick Vitale since the owner of the Detroit Pistons called him in and told him he should go into broadcasting.I can’t tell you what an honor it is to even be mentioned in the same breath with Arthur Ashe. This is something I certainly will treasure forever. But, as it was said on the tape, and I also don’t have one of those things going with the cue cards, so I’m going to speak longer than anybody else has spoken tonight. That’s the way it goes. Time is very precious to me. I don’t know how much I have left, and I have some things that I would like to say. Hopefully, at the end, I will have said something that will be important to other people, tooBut, I can’t help it. Now I’m fighting cancer, everybody knows that. People ask me all the time about how you go through your life and how’s your day, and nothing is changed for me. As Dick said, I’m a very emotional and passionate man. I can’t help it. That’s being the son of Rocco and Angelina Valvano. It comes with the territory. We hug, we kiss, we love.When people say to me how do you get through life or each day, it’s the same thing. To me, there are three things we all should do every day. We should do this every day of our lives. Number one is laugh. You should laugh every day. Number two is think. You should spend some time in thought. Number three is you should have your emotions moved to tears, could be happiness or joy. But think about it. If you laugh, you think and you cry, that’s a full day. That’s a heck of a day. You do that seven days a week, you’re going to have something special.I rode on the plane up today with Mike Krzyzewski, my good friend and wonderful coach. People don’t realize he’s ten times a better person than he is a coach, and we know he’s a great coach. He’s meant a lot to me in these last five or six months with my battle. But when I look at Mike, I think, we competed against each other as players. I coached against him for 15 years, and I always have to think about what’s important in life to me are these three things. Where you started, where you are and where you’re going to be. Those are the three things that I try to do every day. When I think about getting up and giving a speech, I can’t help it. I have to remember the first speech I ever gave.I was coaching at Rutgers University, that was my first job, and I was the freshman coach. That’s when freshmen played on freshman teams, and I was so fired up about my first job. I see Lou Holtz here. Coach Holtz, who doesn’t like the very first job you had? The very first time you stood in the locker room to give a pep talk. That’s a special place, the locker room, for a coach to give a talk. So my idol as a coach was Vince Lombardi, and I read this book called Commitment To Excellence by Vince Lombardi. And in the book, Lombardi talked about the first time he spoke before his Green Bay Packers team in the locker room, and they were perennial losers. I’m reading this and Lombardi said he was thinking should it be a long talk, or a short talk? But he wanted it to be emotional, so it would be brief. So here’s what I did. Normally you get in the locker room, I don’t know, 25 minutes, a half hour before the team takes the field. You do your little x and o’s, and then you give the great Knute Rockne talk. We all do. Speech number 84. You pull them right out, you get ready. You get your squad ready. Well, this is the first one I ever gave, and I read this thing.Lombardi, what he said was he didn’t go in, he waited. His team wondering, where is he? Where is this great coach? He’s not there. Ten minutes, he’s still not there. Three minutes before they could take the field, Lombardi comes in, bangs the door open, and I think you all remember what great presence he had, great presence. He walked in, and he walked back and forth, like this, just walked, staring at the players. He said, “All eyes on me.”I’m reading this in this book. I’m getting this picture of Lombardi before his first game, and he said, “Gentlemen, we will be successful this year, if you can focus on three things, and three things only. Your family, your religion and the Green Bay Packers.” They knocked the walls down, and the rest was history.I said, “That’s beautiful.” I’m going to do that. Your family, your religion and Rutgers basketball. That’s it. I had it. Listen, I’m 21 years old. The kids I’m coaching are 19, and I’m going to be the greatest coach in the world, the next Lombardi. I’m practicing outside of the locker room, and the managers tell me you got to go in. Not yet, not yet, family, religion, Rutgers Basketball. All eyes on me. I got it, I got it. Then finally he said, three minutes, I said fine. True story. I go to knock the doors open just like Lombardi. Boom! They don’t open. I almost broke my arm. Now I was down, the players were looking. Help the coach out, help him out. Now I did like Lombardi, I walked back and forth, and I was going like that with my arm getting the feeling back in it. Finally I said, “Gentlemen, all eyes on me.” These kids wanted to play, they’re 19. “Let’s go,” I said. “Gentlemen, we’ll be successful this year if you can focus on three things, and three things only. Your family, your religion and the Green Bay Packers,” I told them. I did that. I remember that. I remember where I came from.It’s so important to know where you are. I know where I am right now. How do you go from where you are to where you want to be? I think you have to have an enthusiasm for life. You have to have a dream, a goal. You have to be willing to work for it.I talked about my family; my family’s so important. People think I have courage. The courage in my family are my wife Pam, my three daughters, here, Nicole, Jamie, LeeAnn, my mom, who’s right here too. That screen is flashing up there 30 seconds like I care about that screen right now, huh? I got tumors all over my body. I’m worried about some guy in the back going, “30 seconds?” You got a lot, hey va fa napoli, buddy. You got a lot.I just got one last thing; I urge all of you, all of you, to enjoy your life, the precious moments you have. To spend each day with some laughter and some thought, to get your emotions going. To be enthusiastic every day, and Ralph Waldo Emerson said, “Nothing great could be accomplished without enthusiasm,” to keep your dreams alive in spite of problems whatever you have. The ability to be able to work hard for your dreams to come true, to become a reality.Now I look at where I am now, and I know what I want to do. What I would like to be able to do is spend whatever time I have left and to give, and maybe, some hope to others. Arthur Ashe Foundation is a wonderful thing, and AIDS, the amount of money pouring in for AIDS is not enough, but it is significant. But if I told you it’s ten times the amount that goes in to cancer research. I also told you that 500,000 people will die this year of cancer. And I also tell you that one in every four will be afflicted with this disease. And yet somehow, we seem to have put it in a little bit of the background. I want to bring it back on the front table.We need your help. I need your help. We need money for research. It may not save my life. It may save my children’s lives. It may save someone you love. And it’s very important. And ESPN has been so kind to support me in this endeavor and allow me to announce tonight, that with ESPN’s support, which means what? Their money and their dollars and they’re helping me—we are starting the Jimmy V Foundation for Cancer Research. And its motto is, “Don’t give up . . . don’t ever give up.”And that’s what I’m going to try to do every minute that I have left. I will thank God for the day and the moment I have. If you see me, smile and maybe give me a hug. That’s important to me too. But try if you can to support, whether it’s AIDS or the cancer foundation, so that someone else might survive, might prosper and might actually be cured of this dreaded disease. I can’t thank ESPN enough for allowing this to happen. I’m going to work as hard as I can for cancer research and hopefully, maybe, we’ll have some cures and some breakthroughs. I’d like to think, I’m going to fight my brains out to be back here again next year for the Arthur Ashe recipient. I want to give it next year!I know, I gotta go, I gotta go; and I got one last thing, and I said it before, and I’m gonna say it again. Cancer can take away all my physical abilities. It cannot touch my mind, it cannot touch my heart and it cannot touch my soul. And those three things are going to carry on forever.I thank you, and God bless you all.You can follow us for future coverage by clicking \"Follow\" on the top righthand corner of the page. Also be sure to like us on Facebook & Twitter:Facebook -- ACC InsiderTwitter -- @WolfpackMaven and Brett Friedlander at @BFriedACCBy Brett Friedlander\n"
     ]
    }
   ],
   "source": [
    "#read file and print the speech\n",
    "\n",
    "with open('jimmyv.pkl', 'rb') as f:\n",
    "    article_html = pickle.load(f)\n",
    "    \n",
    "soup = BeautifulSoup(article_html, parser)\n",
    "\n",
    "article_element = soup.find('article')\n",
    "\n",
    "print(article_element.get_text())"
   ]
  },
  {
   "cell_type": "code",
   "execution_count": 263,
   "metadata": {},
   "outputs": [
    {
     "name": "stdout",
     "output_type": "stream",
     "text": [
      "The polarity from Jimmy V Espy's speech is: 0.22666534391534393\n",
      "Article Sentence Count:  152\n"
     ]
    }
   ],
   "source": [
    "# Performing Sentiment Analysis on the Jimmy V Speech\n",
    "# Display polarity score and sentence count\n",
    "\n",
    "import spacy\n",
    "from spacytextblob.spacytextblob import SpacyTextBlob\n",
    "\n",
    "nlp = spacy.load('en_core_web_sm')\n",
    "nlp.add_pipe('spacytextblob')\n",
    "doc = nlp(article_element.get_text())\n",
    "print(f'The polarity from Jimmy V Espy\\'s speech is: {doc._.polarity}')\n",
    "print(\"Article Sentence Count: \", len(sentences))\n"
   ]
  },
  {
   "cell_type": "markdown",
   "metadata": {},
   "source": [
    "## Question 3:\n",
    "\n",
    "3. Load the article text into a trained `spaCy` pipeline, and determine the 5 most frequent tokens (converted to lower case).  Print the common tokens with an appropriate label.  Additionally, print the tokens their frequencies (with appropriate labels)"
   ]
  },
  {
   "cell_type": "code",
   "execution_count": 252,
   "metadata": {},
   "outputs": [
    {
     "name": "stdout",
     "output_type": "stream",
     "text": [
      "The top 5 most frequent tokens are:  [('said', 14), ('going', 13), ('coach', 11), ('day', 11), ('things', 10)]\n",
      "Most Frequent Tokens: {'said', 'coach', 'going', 'things', 'day'}\n"
     ]
    }
   ],
   "source": [
    "import spacy\n",
    "from collections import Counter\n",
    "\n",
    "# Remove whitespace, punctuation, and stopwords, set to lowercase\n",
    "\n",
    "def we_care_about(token):\n",
    "    return not (token.is_space or token.is_punct or token.is_stop)\n",
    "\n",
    "# Get the top 5 tokens into a set and display along with frequency\n",
    "\n",
    "interesting_tokens = [str(token).lower() for token in doc if we_care_about(token)]\n",
    "word_freq = Counter(map(str,interesting_tokens))\n",
    "print('The top 5 most frequent tokens are: ', word_freq.most_common(5))\n",
    "\n",
    "top_tokens = set()\n",
    "for token, freq in word_freq.most_common(5):\n",
    "    top_tokens.add(token)\n",
    "print('Most Frequent Tokens:', top_tokens)"
   ]
  },
  {
   "cell_type": "markdown",
   "metadata": {},
   "source": [
    "## Question 4:\n",
    "\n",
    "4. Load the article text into a trained `spaCy` pipeline, and determine the 5 most frequent lemmas (converted to lower case).  Print the common lemmas with an appropriate label.  Additionally, print the lemmas with their frequencies (with appropriate labels)."
   ]
  },
  {
   "cell_type": "code",
   "execution_count": 253,
   "metadata": {},
   "outputs": [
    {
     "name": "stdout",
     "output_type": "stream",
     "text": [
      "The top 5 most frequent lemmas  [('go', 16), ('thing', 15), ('coach', 14), ('say', 14), ('get', 13)]\n",
      "Most Frequent Lemmas: {'coach', 'thing', 'go', 'say', 'get'}\n"
     ]
    }
   ],
   "source": [
    "# Get the top 5 lemmas add to set and display with frequency\n",
    "\n",
    "interesting_lemmas = [token.lemma_.lower() for token in doc if we_care_about(token)]\n",
    "lemma_freq = Counter(interesting_lemmas)\n",
    "print('The top 5 most frequent lemmas ', lemma_freq.most_common(5))\n",
    "\n",
    "top_lemmas = set()\n",
    "for token, freq in lemma_freq.most_common(5):\n",
    "    top_lemmas.add(token)\n",
    "print('Most Frequent Lemmas:', top_lemmas)"
   ]
  },
  {
   "cell_type": "markdown",
   "metadata": {},
   "source": [
    "## Question 5\n",
    "\n",
    "5. Make a list containing the scores (using tokens) of every sentence in the article, and plot a histogram with appropriate titles and axis labels of the scores. From your histogram, what seems to be the most common range of scores (put the answer in a comment after your code)?"
   ]
  },
  {
   "cell_type": "code",
   "execution_count": 254,
   "metadata": {},
   "outputs": [
    {
     "name": "stdout",
     "output_type": "stream",
     "text": [
      "The scores or each sentence by token:\n",
      "[0.016129032258064516, 0.0, 0.0, 0.0, 0.0, 0.0, 0.0, 0.1111111111111111, 0.0, 0.0, 0.05, 0.045454545454545456, 0.0, 0.041666666666666664, 0.09090909090909091, 0.0, 0.0, 0.0, 0.0, 0.05263157894736842, 0.16666666666666666, 0.1111111111111111, 0.0, 0.2, 0.0, 0.0, 0.0, 0.0, 0.07692307692307693, 0.14285714285714285, 0.07142857142857142, 0.0625, 0.08333333333333333, 0.0, 0.0, 0.04, 0.07692307692307693, 0.16666666666666666, 0.0, 0.0, 0.058823529411764705, 0.0, 0.0, 0.08333333333333333, 0.0, 0.06666666666666667, 0.047619047619047616, 0.0, 0.05, 0.0, 0.0, 0.0, 0.0, 0.0, 0.0, 0.0, 0.0, 0.0, 0.08333333333333333, 0.0, 0.2, 0.0, 0.0, 0.0, 0.0, 0.16666666666666666, 0.0, 0.09375, 0.0, 0.0, 0.2, 0.16666666666666666, 0.0, 0.0, 0.0, 0.0, 0.09090909090909091, 0.0, 0.0, 0.0, 0.0, 0.2222222222222222, 0.0, 0.0, 0.0, 0.0, 0.0, 0.0, 0.14285714285714285, 0.04, 0.125, 0.0, 0.2, 0.1111111111111111, 0.0, 0.0, 0.0, 0.0, 0.0, 0.0, 0.0, 0.0, 0.0, 0.0, 0.0, 0.0, 0.0, 0.0, 0.0, 0.08333333333333333, 0.0, 0.0, 0.0, 0.13333333333333333, 0.06896551724137931, 0.0, 0.0, 0.0, 0.0, 0.0, 0.0, 0.0, 0.0, 0.0, 0.0, 0.0, 0.0, 0.0, 0.0, 0.0, 0.0, 0.0, 0.0, 0.0, 0.0, 0.0, 0.0625, 0.08333333333333333, 0.0, 0.0, 0.0, 0.0, 0.041666666666666664, 0.04, 0.0, 0.03571428571428571, 0.0, 0.0, 0.2, 0.0, 0.0, 0.0]\n"
     ]
    },
    {
     "data": {
      "image/png": "[encoded data removed]",
      "text/plain": [
       "<Figure size 432x288 with 1 Axes>"
      ]
     },
     "metadata": {
      "needs_background": "light"
     },
     "output_type": "display_data"
    }
   ],
   "source": [
    "import matplotlib.pyplot as plt\n",
    "sentences = list(doc.sents)\n",
    "\n",
    "def sentence_len(sentence):\n",
    "    count = 0\n",
    "    for token in sentence:\n",
    "        if not(token.is_space or token.is_punct):\n",
    "            count += 1\n",
    "    return count\n",
    "\n",
    "def score_sentence_by_token(sentence, top_tokens):\n",
    "    tokens = 0\n",
    "    if sentence_len(sentence) == 0:\n",
    "        return 0\n",
    "    for token in sentence:\n",
    "        if str(token).lower() in top_tokens:\n",
    "            tokens += 1\n",
    "    return tokens/sentence_len(sentence)\n",
    "\n",
    "# make a list of token scores\n",
    "token_scores_list = []\n",
    "\n",
    "for sentence in sentences:\n",
    "    token_scores_list.append(score_sentence_by_token(sentence, top_tokens))\n",
    "print('The scores or each sentence by token:')\n",
    "print(token_scores_list)\n",
    "\n",
    "# plot histogram\n",
    "plt.hist(token_scores_list, color = 'g')\n",
    "plt.title('Sentence Scores by Token',fontweight = 'bold', color = 'red')\n",
    "plt.ylabel('Token Frequency',fontweight = 'bold')\n",
    "plt.xlabel('Scores', fontweight = 'bold')\n",
    "plt.show()\n",
    "\n",
    "### The range that the most common score falls in appears to be in the 0.00 to 0.025 range by quite a large margin."
   ]
  },
  {
   "cell_type": "markdown",
   "metadata": {},
   "source": [
    "## Question 6\n",
    "\n",
    "6. Make a list containing the scores (using lemmas) of every sentence in the article, and plot a histogram with appropriate titles and axis labels of the scores.  From your histogram, what seems to be the most common range of scores (put the answer in a comment after your code)?"
   ]
  },
  {
   "cell_type": "code",
   "execution_count": 215,
   "metadata": {},
   "outputs": [
    {
     "name": "stdout",
     "output_type": "stream",
     "text": [
      "The scores or each sentence by lemmas:\n",
      "[0.016129032258064516, 0.0, 0.0, 0.0, 0.03571428571428571, 0.0, 0.0, 0.0, 0.0, 0.0, 0.05, 0.0, 0.0, 0.041666666666666664, 0.0, 0.0, 0.0, 0.0, 0.0, 0.15789473684210525, 0.0, 0.0, 0.0, 0.0, 0.0, 0.0, 0.0, 0.0, 0.0, 0.0, 0.0, 0.0625, 0.08333333333333333, 0.0, 0.0, 0.0, 0.0, 0.0, 0.0, 0.0, 0.058823529411764705, 0.0, 0.0, 0.08333333333333333, 0.0, 0.06666666666666667, 0.047619047619047616, 0.0, 0.0, 0.0, 0.0, 0.045454545454545456, 0.0, 0.0, 0.0, 0.125, 0.2, 0.07142857142857142, 0.08333333333333333, 0.0, 0.2, 0.0, 0.0, 0.0, 0.0, 0.0, 0.0, 0.0, 0.0, 0.0, 0.0, 0.0, 0.0, 0.0, 0.0, 0.0, 0.045454545454545456, 0.05555555555555555, 0.0, 0.0, 0.0, 0.0, 0.0, 0.1, 0.0, 0.0, 0.0, 0.0, 0.14285714285714285, 0.0, 0.0, 0.0, 0.2, 0.0, 0.0, 0.0, 0.0, 0.0, 0.0, 0.0, 0.07142857142857142, 0.0, 0.0, 0.0, 0.0, 0.0, 0.0, 0.0, 0.0, 0.0, 0.0, 0.0, 0.043478260869565216, 0.06666666666666667, 0.0, 0.0, 0.0, 0.0, 0.041666666666666664, 0.0, 0.0, 0.0, 0.0, 0.0, 0.0, 0.0, 0.0, 0.0, 0.0, 0.0, 0.0, 0.0, 0.0, 0.0, 0.0, 0.0, 0.0, 0.0, 0.0, 0.0, 0.0, 0.0, 0.0, 0.0, 0.0, 0.14285714285714285, 0.0, 0.0, 0.0, 0.0, 0.0, 0.0]\n"
     ]
    },
    {
     "data": {
      "image/png": "[encoded data removed]",
      "text/plain": [
       "<Figure size 432x288 with 1 Axes>"
      ]
     },
     "metadata": {
      "needs_background": "light"
     },
     "output_type": "display_data"
    }
   ],
   "source": [
    "def sentence_lemma_len(sentence):\n",
    "    count = 0\n",
    "    for lemma in sentence:\n",
    "        if not(lemma.is_space or lemma.is_punct):\n",
    "            count += 1\n",
    "    return count\n",
    "\n",
    "def score_sentence_by_lemma(sentence, top_lemmas):\n",
    "    lemmas = 0\n",
    "    if sentence_lemma_len(sentence) == 0:\n",
    "        return 0\n",
    "    for lemma in sentence:\n",
    "        if str(lemma).lower() in top_lemmas:\n",
    "            lemmas += 1\n",
    "    return lemmas/sentence_lemma_len(sentence)\n",
    "\n",
    "# make a list of token scores\n",
    "lemma_scores_list = []\n",
    "\n",
    "for sentence in sentences:\n",
    "    lemma_scores_list.append(score_sentence_by_lemma(sentence, top_lemmas))\n",
    "print('The scores or each sentence by lemmas:')\n",
    "print(lemma_scores_list)\n",
    "\n",
    "# plot histogram\n",
    "plt.hist(lemma_scores_list, color = 'orange')\n",
    "plt.title('Sentence Scores by Lemma',fontweight = 'bold', color = 'blue')\n",
    "plt.ylabel('Lemma Frequency',fontweight = 'bold')\n",
    "plt.xlabel('Scores', fontweight = 'bold')\n",
    "plt.show()\n",
    "\n",
    "#### Lemmas didn't change the range much, but it did have even more fall into that range, so the most common range is the 0.00 to 0.025 range again."
   ]
  },
  {
   "cell_type": "markdown",
   "metadata": {},
   "source": [
    "## Question 7\n",
    "\n",
    "7. Using the histograms from questions 5 and 6, decide a \"cutoff\" score for tokens and lemmas such that fewer than half the sentences would have a score greater than the cutoff score.  Record the scores in this Markdown cell\n",
    "\n",
    "* Cutoff Score (tokens): 0.15\n",
    "* Cutoff Score (lemmas): 0.175\n",
    "\n",
    "Feel free to change these scores as you generate your summaries.  Ideally, we're shooting for at least 6 sentences for our summary, but don't want more than 10 (these numbers are rough estimates; they depend on the length of your article)."
   ]
  },
  {
   "cell_type": "code",
   "execution_count": 216,
   "metadata": {},
   "outputs": [
    {
     "name": "stdout",
     "output_type": "stream",
     "text": [
      "Cutoff Score (tokens): 0.15\n",
      "Cutoff Score (lemmas): 0.175\n"
     ]
    }
   ],
   "source": [
    "# Setting the cutoffs for tokens and lemmas to create summaries\n",
    "\n",
    "token_cutoff = 0.15\n",
    "lemma_cutoff = 0.175\n",
    "\n",
    "print('Cutoff Score (tokens):',token_cutoff)\n",
    "print('Cutoff Score (lemmas):',lemma_cutoff)"
   ]
  },
  {
   "cell_type": "markdown",
   "metadata": {},
   "source": [
    "## Question 8\n",
    "\n",
    "8. Create a summary of the article by going through every sentence in the article and adding it to an (initially) empty list if its score (based on tokens) is greater than the cutoff score you identified in question 8.  If your loop variable is named `sent`, you may find it easier to add `sent.text.strip()` to your list of sentences.  Print the summary (I would cleanly generate the summary text by `join`ing the strings in your list together with a space (`' '.join(sentence_list)`)."
   ]
  },
  {
   "cell_type": "code",
   "execution_count": 256,
   "metadata": {},
   "outputs": [
    {
     "name": "stdout",
     "output_type": "stream",
     "text": [
      "To me, there are three things we all should do every day. You should laugh every day. Those are the three things that I try to do every day. Where is this great coach? He said, “All eyes on me. I said, “That’s beautiful.” I’m going to do that. Then finally he said, three minutes, I said fine. “Let’s go,” I said. And those three things are going to carry on forever.\n"
     ]
    }
   ],
   "source": [
    "#get sentences that are over the token cutoff score, print the summary\n",
    "\n",
    "token_sentence = []\n",
    "token_scores = []\n",
    "\n",
    "for sentence in sentences:\n",
    "    tokens = 0\n",
    "    words = 0\n",
    "    for token in sentence:\n",
    "        if not(token.is_space or token.is_punct):\n",
    "            words += 1\n",
    "        if token.text.lower() in top_tokens:\n",
    "            tokens += 1\n",
    "    if tokens != 0:\n",
    "        token_score = tokens/words\n",
    "        if token_score >= token_cutoff:\n",
    "            sent_str = str(sentence).replace('\\n','').replace('  ',' ')\n",
    "            token_sentence.append(sent_str)\n",
    "            token_scores.append(token_score)\n",
    "\n",
    "print(' '.join(token_sentence))"
   ]
  },
  {
   "cell_type": "markdown",
   "metadata": {},
   "source": [
    "## Question 9\n",
    "\n",
    "9. Print the polarity score of your summary you generated with the token scores (with an appropriate label). Additionally, print the number of sentences in the summarized article."
   ]
  },
  {
   "cell_type": "code",
   "execution_count": 257,
   "metadata": {},
   "outputs": [
    {
     "name": "stdout",
     "output_type": "stream",
     "text": [
      "Token summary polarity:  0.47333333333333333\n",
      "Token scores from summary:  [0.16666666666666666, 0.2, 0.16666666666666666, 0.2, 0.16666666666666666, 0.2, 0.16666666666666666, 0.2222222222222222, 0.2, 0.2]\n",
      "Token summary sentence count:  10\n"
     ]
    }
   ],
   "source": [
    "#Print token polarity score, token scores by sentence, and token summary sentence count\n",
    "\n",
    "doc = nlp(' '.join(token_sentence))\n",
    "\n",
    "print(\"Token summary polarity: \", doc._.blob.polarity)\n",
    "print(\"Token scores from summary: \", token_scores)\n",
    "print(\"Token summary sentence count: \", len(token_sentence))"
   ]
  },
  {
   "cell_type": "markdown",
   "metadata": {},
   "source": [
    "## Question 10\n",
    "\n",
    "10. Create a summary of the article by going through every sentence in the article and adding it to an (initially) empty list if its score (based on lemmas) is greater than the cutoff score you identified in question 8.  If your loop variable is named `sent`, you may find it easier to add `sent.text.strip()` to your list of sentences.  Print the summary (I would cleanly generate the summary text by `join`ing the strings in your list together with a space (`' '.join(sentence_list)`)."
   ]
  },
  {
   "cell_type": "code",
   "execution_count": 258,
   "metadata": {},
   "outputs": [
    {
     "name": "stdout",
     "output_type": "stream",
     "text": [
      "You get your squad ready. Where is this great coach? I said, “That’s beautiful.” I got it, I got it. Then finally he said, three minutes, I said fine. “Let’s go,” I said. You got a lot. know, I gotta go, I gotta go; and I got one last thing, and I said it before, and I’m gonna say it again. And those three things are going to carry on forever.\n"
     ]
    }
   ],
   "source": [
    "#get sentences that meet the lemma cutoff score, then print the summary\n",
    "\n",
    "lemma_sentence = []\n",
    "lemma_scores = []\n",
    "\n",
    "for sentence in sentences:\n",
    "    lemmas = 0\n",
    "    words = 0\n",
    "    for token in sentence:\n",
    "        if not(token.is_space or token.is_punct):\n",
    "            words += 1\n",
    "        if token.lemma_.lower() in top_lemmas:\n",
    "            lemmas += 1\n",
    "    if lemmas != 0:\n",
    "        lemma_score = lemmas/words\n",
    "        if lemma_score >= lemma_cutoff:\n",
    "            sent_str = str(sentence).replace('\\n','').replace('  ',' ')\n",
    "            lemma_sentence.append(sent_str)\n",
    "            lemma_scores.append(lemma_score)\n",
    "\n",
    "print(' '.join(lemma_sentence))"
   ]
  },
  {
   "cell_type": "markdown",
   "metadata": {},
   "source": [
    "## Question 11\n",
    "\n",
    "11. Print the polarity score of your summary you generated with the lemma scores (with an appropriate label). Additionally, print the number of sentences in the summarized article."
   ]
  },
  {
   "cell_type": "code",
   "execution_count": 259,
   "metadata": {},
   "outputs": [
    {
     "name": "stdout",
     "output_type": "stream",
     "text": [
      "Lemma summary polarity:  0.37777777777777777\n",
      "Lemma scores from summary:  [0.2, 0.2, 0.2, 0.3333333333333333, 0.2222222222222222, 0.4, 0.25, 0.32142857142857145, 0.2]\n",
      "Lemma summary sentence count:  9\n"
     ]
    }
   ],
   "source": [
    "#Print lemma polarity score, lemma score by sentence, and lemma summary sentence count\n",
    "\n",
    "doc = nlp(' '.join(lemma_sentence))\n",
    "\n",
    "print(\"Lemma summary polarity: \", doc._.blob.polarity)\n",
    "print(\"Lemma scores from summary: \", lemma_scores)\n",
    "print(\"Lemma summary sentence count: \", len(lemma_sentence))"
   ]
  },
  {
   "cell_type": "markdown",
   "metadata": {
    "tags": []
   },
   "source": [
    "## Question 12\n",
    "\n",
    "12.  Compare your polarity scores of your summaries to the polarity scores of the initial article.  Is there a difference?  Why do you think that may or may not be?.  Answer in this Markdown cell.  \n",
    "\n",
    "All three articles have a very positive polarity score, and they are as follows:\n",
    "    \n",
    "    Original - 0.22666534391534393\n",
    "    Tokens - 0.47333333333333333\n",
    "    Lemmas - 0.37777777777777777\n",
    "    \n",
    "Both the token summary and the lemma summary had a higher polarity than the original article which makes sense as it was looking for more sentences with more of the frequent words, which tended to be positive focused, and condensing them into a short paragraph. The token one being higher than lemmas suprised me a little. Looking at the summaries, the lemmas had more short sentences that seemed to have a lot of filler words and words like gotta go. The tokens had a few more diverse words that probably boosted its polarity over the lemmas in this article."
   ]
  },
  {
   "cell_type": "markdown",
   "metadata": {},
   "source": [
    "## Question 13\n",
    "\n",
    "13. Based on your reading of the original article, which summary do you think is better (if there's a difference).  Why do you think this might be?\n",
    "\n",
    "I thought that overall both the summaries could be a bit better. Maybe add some custom words to exclude, and try different ways like pulling just noun tokens. However, from the two that we produced above, I would have to say the token summary turned out better. It grabbed a couple pieces from some of his key lines that people remember. The lemmas, as mentioned above, had shorter sentences with a lot of the same repeating words, so it did not turn out quite as good as the token summary did."
   ]
  }
 ],
 "metadata": {
  "kernelspec": {
   "display_name": "Python 3 (ipykernel)",
   "language": "python",
   "name": "python3"
  },
  "language_info": {
   "codemirror_mode": {
    "name": "ipython",
    "version": 3
   },
   "file_extension": ".py",
   "mimetype": "text/x-python",
   "name": "python",
   "nbconvert_exporter": "python",
   "pygments_lexer": "ipython3",
   "version": "3.9.7"
  }
 },
 "nbformat": 4,
 "nbformat_minor": 4
}
